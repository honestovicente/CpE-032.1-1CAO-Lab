{
  "nbformat": 4,
  "nbformat_minor": 0,
  "metadata": {
    "colab": {
      "provenance": [],
      "authorship_tag": "ABX9TyMaWenKPIp4J3m9DJUoycH5",
      "include_colab_link": true
    },
    "kernelspec": {
      "name": "python3",
      "display_name": "Python 3"
    },
    "language_info": {
      "name": "python"
    }
  },
  "cells": [
    {
      "cell_type": "markdown",
      "metadata": {
        "id": "view-in-github",
        "colab_type": "text"
      },
      "source": [
        "<a href=\"https://colab.research.google.com/github/honestovicente/CpE-032.1-1CAO-Lab/blob/main/Conditional_Statements.ipynb\" target=\"_parent\"><img src=\"https://colab.research.google.com/assets/colab-badge.svg\" alt=\"Open In Colab\"/></a>"
      ]
    },
    {
      "cell_type": "markdown",
      "source": [
        "If statement"
      ],
      "metadata": {
        "id": "9jTMTyhvCWfK"
      }
    },
    {
      "cell_type": "code",
      "execution_count": null,
      "metadata": {
        "id": "lXXHd8KqCWDJ"
      },
      "outputs": [],
      "source": [
        "a = 12\n",
        "b = 100\n",
        "\n",
        "if a > b:\n",
        "  print('a is greater than b')"
      ]
    },
    {
      "cell_type": "markdown",
      "source": [
        "Elif statement"
      ],
      "metadata": {
        "id": "4cDZm3-mCnTY"
      }
    },
    {
      "cell_type": "code",
      "source": [
        "age = int(input(\"Age: \"))\n",
        "\n",
        "if age >= 18:\n",
        "  print(\"You are qualified to get a license\")\n",
        "elif age < 18:\n",
        "  print(\"You are NOT qualified to get a license\")"
      ],
      "metadata": {
        "colab": {
          "base_uri": "https://localhost:8080/"
        },
        "id": "1wYJI9n1CuYR",
        "outputId": "d4f45884-19ae-4b42-9ebf-5bc19bd19040"
      },
      "execution_count": null,
      "outputs": [
        {
          "output_type": "stream",
          "name": "stdout",
          "text": [
            "Age: 5\n",
            "You are NOT qualified to get a license\n"
          ]
        }
      ]
    },
    {
      "cell_type": "markdown",
      "source": [
        "Else statement"
      ],
      "metadata": {
        "id": "MwnFa9-CEz4X"
      }
    },
    {
      "cell_type": "code",
      "source": [
        "x = int(input(\"Enter an integer: \"))\n",
        "\n",
        "if x > 0:\n",
        "  print(\"Positive integer\")\n",
        "elif x < 0:\n",
        "  print(\"Negative integer\")\n",
        "else:\n",
        "  print(\"Zero\")"
      ],
      "metadata": {
        "colab": {
          "base_uri": "https://localhost:8080/"
        },
        "id": "qJjPwpmJE1bW",
        "outputId": "aabc8c90-aea2-4155-fd78-2fa4029350ed"
      },
      "execution_count": null,
      "outputs": [
        {
          "output_type": "stream",
          "name": "stdout",
          "text": [
            "Enter an integer: 4\n",
            "Positive integer\n"
          ]
        }
      ]
    },
    {
      "cell_type": "markdown",
      "source": [
        "Short Hand if Statement"
      ],
      "metadata": {
        "id": "cU_vmr81FUVG"
      }
    },
    {
      "cell_type": "code",
      "source": [
        "if a < b: print('a is less than b')"
      ],
      "metadata": {
        "colab": {
          "base_uri": "https://localhost:8080/"
        },
        "id": "2T-EcU6sFdN1",
        "outputId": "aa7d2e7e-6d18-4520-925b-7561cbbe86f4"
      },
      "execution_count": null,
      "outputs": [
        {
          "output_type": "stream",
          "name": "stdout",
          "text": [
            "a is less than b\n"
          ]
        }
      ]
    },
    {
      "cell_type": "markdown",
      "source": [
        "Short Hand If..Else Statement"
      ],
      "metadata": {
        "id": "RfQ8tz2EF7xF"
      }
    },
    {
      "cell_type": "code",
      "source": [
        "print(\"a is greater than b\") if a>b else print(\"b is greater than a\")"
      ],
      "metadata": {
        "colab": {
          "base_uri": "https://localhost:8080/"
        },
        "id": "DPjPn_9nF-ys",
        "outputId": "ad17949e-1750-43d1-a40f-917e2d64e28a"
      },
      "execution_count": null,
      "outputs": [
        {
          "output_type": "stream",
          "name": "stdout",
          "text": [
            "a is NOT greater than b\n"
          ]
        }
      ]
    },
    {
      "cell_type": "markdown",
      "source": [
        "And Statement"
      ],
      "metadata": {
        "id": "JSkXK66JGNo0"
      }
    },
    {
      "cell_type": "code",
      "source": [
        "c = 500 # a, b = 12, 100\n",
        "\n",
        "if a < b and c > a:\n",
        "  print(\"both statements are true\")"
      ],
      "metadata": {
        "colab": {
          "base_uri": "https://localhost:8080/"
        },
        "id": "O36fQ7grGmx1",
        "outputId": "be8eb043-6244-4843-946e-00d9ff68c761"
      },
      "execution_count": null,
      "outputs": [
        {
          "output_type": "stream",
          "name": "stdout",
          "text": [
            "both statements are true\n"
          ]
        }
      ]
    },
    {
      "cell_type": "markdown",
      "source": [
        "Nested if statement"
      ],
      "metadata": {
        "id": "6RQv0sInHw2z"
      }
    },
    {
      "cell_type": "code",
      "source": [
        "x = int(input(\"Enter an integer: \"))\n",
        "\n",
        "if x > 10:\n",
        "  print(\"above 10\")\n",
        "  if x > 20:\n",
        "    print(\"and also above 20\")\n",
        "    if x > 30:\n",
        "      print(\"and also above 30\")\n",
        "      if x > 40:\n",
        "        print(\"and also above 40\")\n",
        "        if x > 50:\n",
        "          print(\"and also above 50\")\n",
        "        else:\n",
        "          print(\"not above 50\")\n",
        "      else:\n",
        "        print(\"not above 40\")\n",
        "    else:\n",
        "      print(\"not above 30\")"
      ],
      "metadata": {
        "colab": {
          "base_uri": "https://localhost:8080/"
        },
        "id": "p21GVRmMHyAL",
        "outputId": "b8121936-f182-487d-a563-7a8d537b7daa"
      },
      "execution_count": 31,
      "outputs": [
        {
          "output_type": "stream",
          "name": "stdout",
          "text": [
            "Enter an integer: 28\n",
            "above 10\n",
            "and also above 20\n",
            "not above 30\n"
          ]
        }
      ]
    },
    {
      "cell_type": "markdown",
      "source": [
        "Example 3\n",
        "\n",
        "if:\n",
        "grade >= 75, \"Passed\"\n",
        "grade = 74, \"Remedial\"\n",
        "grade < 74, \"Failed\"\n",
        "note: If grade is a negative number, it will not be accepted"
      ],
      "metadata": {
        "id": "pcZfvBCxK9Nf"
      }
    },
    {
      "cell_type": "code",
      "source": [
        "grade = float(input(\"input grade: \")) # Convert to float to also accept decimal grades\n",
        "\n",
        "if grade < 0:\n",
        "  print(\"Grade is a negative number. Not accepted.\") # Will not proceed if negative\n",
        "elif grade >= 75:\n",
        "  print(\"Passed\")\n",
        "elif grade >= 74 and grade < 75: # Range for 74.0 to 74.9\n",
        "  print(\"Remedial\")\n",
        "elif grade < 74:\n",
        "  print(\"Failed\")"
      ],
      "metadata": {
        "colab": {
          "base_uri": "https://localhost:8080/"
        },
        "id": "sbJNDdP3K-iP",
        "outputId": "1ed1c25f-bc86-4928-8860-254961354ced"
      },
      "execution_count": 49,
      "outputs": [
        {
          "output_type": "stream",
          "name": "stdout",
          "text": [
            "input grade: 74.9999\n",
            "Remedial\n"
          ]
        }
      ]
    }
  ]
}